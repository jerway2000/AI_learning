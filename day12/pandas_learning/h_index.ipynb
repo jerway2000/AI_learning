{
 "cells": [
  {
   "cell_type": "markdown",
   "metadata": {
    "collapsed": true,
    "pycharm": {
     "name": "#%% md\n"
    }
   },
   "source": [
    "# 7 层级索引（hierarchical indexing）（机器学习，深度学习不重要）"
   ]
  },
  {
   "cell_type": "code",
   "source": [
    "import pandas as pd\n",
    "import numpy as np\n",
    "\n",
    "#MultiIndex是层级索引，索引类型的一种\n",
    "index1 = pd.MultiIndex.from_arrays([['a', 'a', 'a', 'b', 'b', 'b', 'c', 'c', 'c', 'd', 'd', 'd'],\n",
    "                [0, 1, 2, 0, 1, 2, 0, 1, 2, 0, 1, 2]], names=['cloth', 'size'])\n",
    "\n",
    "ser_obj = pd.Series(np.random.randn(12),index=index1)\n",
    "print(ser_obj)\n",
    "print(type(ser_obj)) #Series\n",
    "print(type(ser_obj.index)) #索引类型，MultiIndex\n",
    "print(ser_obj.index)\n",
    "print(ser_obj.index.levels) #层级索引的索引值\n",
    "ser_obj.index.codes  #没那么重要，代表索引的位置\n"
   ],
   "metadata": {
    "collapsed": false,
    "pycharm": {
     "name": "#%%\n"
    },
    "ExecuteTime": {
     "end_time": "2025-01-12T11:52:01.222064Z",
     "start_time": "2025-01-12T11:52:01.198333300Z"
    }
   },
   "outputs": [
    {
     "name": "stdout",
     "output_type": "stream",
     "text": [
      "cloth  size\n",
      "a      0       0.169780\n",
      "       1      -1.334513\n",
      "       2      -0.028918\n",
      "b      0      -0.473801\n",
      "       1       0.341257\n",
      "       2      -0.395695\n",
      "c      0      -1.131568\n",
      "       1      -0.399659\n",
      "       2      -0.864357\n",
      "d      0      -1.933152\n",
      "       1      -1.277217\n",
      "       2      -0.669645\n",
      "dtype: float64\n",
      "<class 'pandas.core.series.Series'>\n",
      "<class 'pandas.core.indexes.multi.MultiIndex'>\n",
      "MultiIndex([('a', 0),\n",
      "            ('a', 1),\n",
      "            ('a', 2),\n",
      "            ('b', 0),\n",
      "            ('b', 1),\n",
      "            ('b', 2),\n",
      "            ('c', 0),\n",
      "            ('c', 1),\n",
      "            ('c', 2),\n",
      "            ('d', 0),\n",
      "            ('d', 1),\n",
      "            ('d', 2)],\n",
      "           names=['cloth', 'size'])\n",
      "[['a', 'b', 'c', 'd'], [0, 1, 2]]\n"
     ]
    },
    {
     "data": {
      "text/plain": "FrozenList([[0, 0, 0, 1, 1, 1, 2, 2, 2, 3, 3, 3], [0, 1, 2, 0, 1, 2, 0, 1, 2, 0, 1, 2]])"
     },
     "execution_count": 3,
     "metadata": {},
     "output_type": "execute_result"
    }
   ],
   "execution_count": 3
  },
  {
   "cell_type": "code",
   "source": [
    "ser_obj"
   ],
   "metadata": {
    "collapsed": false,
    "ExecuteTime": {
     "end_time": "2025-01-12T11:52:01.284239100Z",
     "start_time": "2025-01-12T11:52:01.208999500Z"
    }
   },
   "outputs": [
    {
     "data": {
      "text/plain": "cloth  size\na      0       0.169780\n       1      -1.334513\n       2      -0.028918\nb      0      -0.473801\n       1       0.341257\n       2      -0.395695\nc      0      -1.131568\n       1      -0.399659\n       2      -0.864357\nd      0      -1.933152\n       1      -1.277217\n       2      -0.669645\ndtype: float64"
     },
     "execution_count": 4,
     "metadata": {},
     "output_type": "execute_result"
    }
   ],
   "execution_count": 4
  },
  {
   "cell_type": "code",
   "source": [
    "#层级索引如何取数据\n",
    "print('-'*50)\n",
    "print(ser_obj['c']) #取出c的所有数据，取出的是series\n",
    "print('-'*50)\n",
    "print(ser_obj.loc['a', 2])\n",
    "print('-'*50)\n",
    "print(ser_obj[:, 2]) #取出所有行的内层索引为2的数据"
   ],
   "metadata": {
    "collapsed": false,
    "pycharm": {
     "name": "#%%\n"
    },
    "ExecuteTime": {
     "end_time": "2025-01-12T11:52:01.285239800Z",
     "start_time": "2025-01-12T11:52:01.226067300Z"
    }
   },
   "outputs": [
    {
     "name": "stdout",
     "output_type": "stream",
     "text": [
      "--------------------------------------------------\n",
      "size\n",
      "0   -1.131568\n",
      "1   -0.399659\n",
      "2   -0.864357\n",
      "dtype: float64\n",
      "--------------------------------------------------\n",
      "-0.02891786744311461\n",
      "--------------------------------------------------\n",
      "cloth\n",
      "a   -0.028918\n",
      "b   -0.395695\n",
      "c   -0.864357\n",
      "d   -0.669645\n",
      "dtype: float64\n"
     ]
    }
   ],
   "execution_count": 5
  },
  {
   "cell_type": "markdown",
   "source": [
    "## 交换层级"
   ],
   "metadata": {
    "collapsed": false
   }
  },
  {
   "cell_type": "code",
   "source": [
    "print(ser_obj.swaplevel())\n",
    "print('-'*50)\n",
    "print(ser_obj)\n",
    "print('-'*50)\n",
    "ser_obj=ser_obj.swaplevel()\n",
    "print(ser_obj)"
   ],
   "metadata": {
    "collapsed": false,
    "pycharm": {
     "name": "#%%\n"
    },
    "ExecuteTime": {
     "end_time": "2025-01-12T11:52:01.285239800Z",
     "start_time": "2025-01-12T11:52:01.238277900Z"
    }
   },
   "outputs": [
    {
     "name": "stdout",
     "output_type": "stream",
     "text": [
      "size  cloth\n",
      "0     a        0.169780\n",
      "1     a       -1.334513\n",
      "2     a       -0.028918\n",
      "0     b       -0.473801\n",
      "1     b        0.341257\n",
      "2     b       -0.395695\n",
      "0     c       -1.131568\n",
      "1     c       -0.399659\n",
      "2     c       -0.864357\n",
      "0     d       -1.933152\n",
      "1     d       -1.277217\n",
      "2     d       -0.669645\n",
      "dtype: float64\n",
      "--------------------------------------------------\n",
      "cloth  size\n",
      "a      0       0.169780\n",
      "       1      -1.334513\n",
      "       2      -0.028918\n",
      "b      0      -0.473801\n",
      "       1       0.341257\n",
      "       2      -0.395695\n",
      "c      0      -1.131568\n",
      "       1      -0.399659\n",
      "       2      -0.864357\n",
      "d      0      -1.933152\n",
      "       1      -1.277217\n",
      "       2      -0.669645\n",
      "dtype: float64\n",
      "--------------------------------------------------\n",
      "size  cloth\n",
      "0     a        0.169780\n",
      "1     a       -1.334513\n",
      "2     a       -0.028918\n",
      "0     b       -0.473801\n",
      "1     b        0.341257\n",
      "2     b       -0.395695\n",
      "0     c       -1.131568\n",
      "1     c       -0.399659\n",
      "2     c       -0.864357\n",
      "0     d       -1.933152\n",
      "1     d       -1.277217\n",
      "2     d       -0.669645\n",
      "dtype: float64\n"
     ]
    }
   ],
   "execution_count": 6
  },
  {
   "cell_type": "code",
   "source": [
    "print(ser_obj.sort_index(level=0))  #层级索引按那个索引级别排序,level=0表示按最外层索引排序"
   ],
   "metadata": {
    "collapsed": false,
    "pycharm": {
     "name": "#%%\n"
    },
    "ExecuteTime": {
     "end_time": "2025-01-12T11:52:01.286239Z",
     "start_time": "2025-01-12T11:52:01.249309100Z"
    }
   },
   "outputs": [
    {
     "name": "stdout",
     "output_type": "stream",
     "text": [
      "size  cloth\n",
      "0     a        0.169780\n",
      "      b       -0.473801\n",
      "      c       -1.131568\n",
      "      d       -1.933152\n",
      "1     a       -1.334513\n",
      "      b        0.341257\n",
      "      c       -0.399659\n",
      "      d       -1.277217\n",
      "2     a       -0.028918\n",
      "      b       -0.395695\n",
      "      c       -0.864357\n",
      "      d       -0.669645\n",
      "dtype: float64\n"
     ]
    }
   ],
   "execution_count": 7
  },
  {
   "metadata": {
    "ExecuteTime": {
     "end_time": "2025-01-12T11:52:01.312245500Z",
     "start_time": "2025-01-12T11:52:01.259423400Z"
    }
   },
   "cell_type": "code",
   "source": [
    "ser_obj"
   ],
   "outputs": [
    {
     "data": {
      "text/plain": "size  cloth\n0     a        0.169780\n1     a       -1.334513\n2     a       -0.028918\n0     b       -0.473801\n1     b        0.341257\n2     b       -0.395695\n0     c       -1.131568\n1     c       -0.399659\n2     c       -0.864357\n0     d       -1.933152\n1     d       -1.277217\n2     d       -0.669645\ndtype: float64"
     },
     "execution_count": 8,
     "metadata": {},
     "output_type": "execute_result"
    }
   ],
   "execution_count": 8
  },
  {
   "cell_type": "code",
   "source": [
    "#把最大索引变为列索引\n",
    "df_obj=ser_obj.unstack()  #unstack的level参数是索引层级\n",
    "print(df_obj)\n"
   ],
   "metadata": {
    "collapsed": false,
    "pycharm": {
     "name": "#%%\n"
    },
    "ExecuteTime": {
     "end_time": "2025-01-12T11:52:01.315238800Z",
     "start_time": "2025-01-12T11:52:01.281265600Z"
    }
   },
   "outputs": [
    {
     "name": "stdout",
     "output_type": "stream",
     "text": [
      "cloth         a         b         c         d\n",
      "size                                         \n",
      "0      0.169780 -0.473801 -1.131568 -1.933152\n",
      "1     -1.334513  0.341257 -0.399659 -1.277217\n",
      "2     -0.028918 -0.395695 -0.864357 -0.669645\n"
     ]
    }
   ],
   "execution_count": 9
  },
  {
   "cell_type": "code",
   "source": [
    "print(df_obj)\n",
    "#对df进行stack，就会把行，列索引进行堆叠，变为series\n",
    "#把列索引放入内层,只能放到内层\n",
    "print(df_obj.stack())  #stack变为series和unstack保持一致的\n",
    "# df_obj=df_obj.transpose()"
   ],
   "metadata": {
    "collapsed": false,
    "pycharm": {
     "name": "#%%\n"
    },
    "ExecuteTime": {
     "end_time": "2025-01-12T11:52:01.316239400Z",
     "start_time": "2025-01-12T11:52:01.281265600Z"
    }
   },
   "outputs": [
    {
     "name": "stdout",
     "output_type": "stream",
     "text": [
      "cloth         a         b         c         d\n",
      "size                                         \n",
      "0      0.169780 -0.473801 -1.131568 -1.933152\n",
      "1     -1.334513  0.341257 -0.399659 -1.277217\n",
      "2     -0.028918 -0.395695 -0.864357 -0.669645\n",
      "size  cloth\n",
      "0     a        0.169780\n",
      "      b       -0.473801\n",
      "      c       -1.131568\n",
      "      d       -1.933152\n",
      "1     a       -1.334513\n",
      "      b        0.341257\n",
      "      c       -0.399659\n",
      "      d       -1.277217\n",
      "2     a       -0.028918\n",
      "      b       -0.395695\n",
      "      c       -0.864357\n",
      "      d       -0.669645\n",
      "dtype: float64\n"
     ]
    }
   ],
   "execution_count": 10
  },
  {
   "cell_type": "markdown",
   "source": [],
   "metadata": {
    "collapsed": false
   }
  }
 ],
 "metadata": {
  "kernelspec": {
   "display_name": "Python 3",
   "language": "python",
   "name": "python3"
  },
  "language_info": {
   "codemirror_mode": {
    "name": "ipython",
    "version": 2
   },
   "file_extension": ".py",
   "mimetype": "text/x-python",
   "name": "python",
   "nbconvert_exporter": "python",
   "pygments_lexer": "ipython2",
   "version": "2.7.6"
  }
 },
 "nbformat": 4,
 "nbformat_minor": 0
}
